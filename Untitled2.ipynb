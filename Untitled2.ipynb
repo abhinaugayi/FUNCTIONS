{
  "nbformat": 4,
  "nbformat_minor": 0,
  "metadata": {
    "colab": {
      "provenance": []
    },
    "kernelspec": {
      "name": "python3",
      "display_name": "Python 3"
    },
    "language_info": {
      "name": "python"
    }
  },
  "cells": [
    {
      "cell_type": "markdown",
      "source": [
        "FUNCTION ASSIGNMENT"
      ],
      "metadata": {
        "id": "MdDD0HSdtB_X"
      }
    },
    {
      "cell_type": "markdown",
      "source": [
        " What is the difference between a function and a method in Python?\n",
        "\n",
        " ANSWER : Difference between a function and a method in python is :\n",
        "\n",
        "  function\n",
        "  function are defined for a specific task and have a particular task and they can be reused after implementation and we can use them when there is need of function.\n",
        "\n",
        "  method\n",
        "\n",
        "Methods are a crucial part of object-oriented programming that help to define the actions that an object can perform. Methods are invoked on objects with a dot operator, where the base object name is placed before the period, followed by the method name. Methods can do adjustment an thing, whereas functions do not do thi"
      ],
      "metadata": {
        "id": "n5mtmweBs_qv"
      }
    },
    {
      "cell_type": "markdown",
      "source": [
        " Explain the concept of function arguments and parameters in Python ?\n",
        "\n",
        "Answer : The concept function arguments and paramters in python is that :\n",
        "\n",
        "Parameters\n",
        "\n",
        "oarameters are the variable defined in the function definition that specify what kind of data the functions excepts .\n",
        "\n",
        "Arguments\n",
        "arguments are actual values or data you pass into the function when calling it .\n",
        "\n",
        "\n"
      ],
      "metadata": {
        "id": "wlfAQneXuCtv"
      }
    },
    {
      "cell_type": "markdown",
      "source": [
        " What are the different ways to define and call a function in Python?\n",
        "\n",
        " Answer: the different ways to define and call a function in python :\n",
        "\n",
        "1.   **Simple function definition and call**\n",
        "for ex\n",
        "\n",
        "def greet(name):  # Define function\n",
        "    print(f\"Hello, {name}!\")\n",
        "\n",
        "greet(\"abhi\")  # Call function with argument\n",
        "\n",
        "in this we define a function and call it.\n",
        "\n",
        "2. **function with default arguments**\n",
        "\n",
        "for example:\n",
        "\n",
        "def greet(name=\"Guest\"):  # Default argument\n",
        "    print(f\"Hello, {name}!\")\n",
        "\n",
        "greet()  # Will use default \"Guest\"\n",
        "greet(\"abhi\")  # Will use \"abhi\"\n",
        "\n",
        "\n",
        "3. function with variable length\n",
        "\n",
        "you can define functions that acceot a variable number of arguments using *args(for non-keyword arguments ) or **kwargs (for keyword argument) .\n",
        "\n",
        "def greet(*names):\n",
        "for name in names:\n",
        "    print(f\"hello,{name}!\")\n",
        "\n",
        "greet (\"Abhi\",\"konark\")\n",
        "\n",
        "\n",
        "4.  lambda function\n",
        "they are short , anonymous functions defined with lambda keyword\n",
        "\n",
        "for ex:\n",
        "\n",
        "add = lambda x,y:x+ # define lambda function\n",
        "print(add(2,3)) # call lambda function\n",
        "\n",
        "\n",
        "\n",
        "   \n",
        "\n",
        "\n",
        "\n",
        "\n",
        "\n",
        "\n",
        "\n"
      ],
      "metadata": {
        "id": "AmQ7xBiEti_n"
      }
    },
    {
      "cell_type": "markdown",
      "source": [
        " What is the purpose of the `return` statement in a Python function?\n",
        "\n",
        " Answer : return statement is used in python to send a result from the function . it end\"s the function\"s execution and give result\n",
        "\n"
      ],
      "metadata": {
        "id": "j3vW_SvLxVZn"
      }
    },
    {
      "cell_type": "markdown",
      "source": [
        " What are iterators in Python and how do they differ from iterables?\n",
        "\n",
        " Answer: Iterables, such as lists, tuples, are objects that return an iterator in Python. An iterator is an object that maintains its state of iteration and returns one element at a time using the next() method. Iterable has a method called iter() which returns an iterator. Use-Iterators-are-exhausted-after-use i.e the application of iterables and iterators"
      ],
      "metadata": {
        "id": "1WDucBpB0UfK"
      }
    },
    {
      "cell_type": "markdown",
      "source": [
        "Explain the concept of generators in Python and how they are defined ?\n",
        "\n",
        "Answers : Generators are special type of functions in Python that generate a sequence of values lazily (one at a time) using the yield keyword. Unlike regular functions that compute a return value and then terminate, a generator halts execution and can then resume with the state it was left in. The values are not produced all at once and do not need to be present in memory at the same time, thus they are efficient in terms of memory.\n",
        "\n",
        "\n",
        "\n"
      ],
      "metadata": {
        "id": "HQTvY3us1CoY"
      }
    },
    {
      "cell_type": "markdown",
      "source": [
        "What are the advantages of using generators over regular functions?\n",
        "\n",
        "ANSWERS : Advantages of using generators over regular functions are:\n",
        "\n",
        "Memory Efficient: They yield values one at a time, so they use less memory, useful with big data.\n",
        "\n",
        "Lazy evaluation: Values are evaluated at their first appearance, increasing performance.\n",
        "\n",
        "State Retention: Generators hold onto their state in between calls, allowing you to iterate through values without recalculation or datastructures to hold intermediate results. Advantages of generators vs functions"
      ],
      "metadata": {
        "id": "xwdwzg3a1lra"
      }
    },
    {
      "cell_type": "markdown",
      "source": [
        "What is a lambda function in Python and when is it typically used ?\n",
        "\n",
        "Answer : In Python, a lambda function is a small anonymous function defined with the lambda keyword. You can pass any number of arguments to it but it contains only one expression. Lambda functions are mainly for short, one-time use operations, especially as arguments to functions such as map(), filteror sorted() at which point defining a full function is just a bit too much"
      ],
      "metadata": {
        "id": "8sPofaZo2N4i"
      }
    },
    {
      "cell_type": "markdown",
      "source": [
        "Explain the purpose and usage of the `map()` function in Python ?\n",
        "\n",
        "ANSWER: In Python, map() takes a function as input and applies it to all items of an iterable (that is, a list or a tuple) and returns an iterator of the results. It is helpful to transform the data without necessarily looping explicitly. It gets two arguments: a function and an iterable."
      ],
      "metadata": {
        "id": "FYvqY3GU2pyr"
      }
    },
    {
      "cell_type": "markdown",
      "source": [
        "What is the difference between map(), reduce(), and filter() functions in Python?\n",
        "\n",
        "Answer: In Python:\n",
        "\n",
        "map(): Produces an iterable of the results of applying a function to each item in an iterable. It transforms data.\n",
        "\n",
        "reduce(): Apply function of two arguments cumulatively to the items of iterable, from left to right, so as to reduce the iterable to a single value (from functools module)\n",
        "\n",
        "filter(): This function Filter items in an iterable if it satisfy the condition (function return True or False), If so, only return items that pass the condition."
      ],
      "metadata": {
        "id": "OiRBFc2A6_g2"
      }
    },
    {
      "cell_type": "markdown",
      "source": [
        " Using pen & Paper write the internal mechanism for sum operation using  reduce function on this given\n",
        "list:[47,11,42,13] ?\n"
      ],
      "metadata": {
        "id": "RVBHWmgj7dQX"
      }
    },
    {
      "cell_type": "markdown",
      "source": [
        "WHILE UPLOADING ERROR OCCURING IN COLAB"
      ],
      "metadata": {
        "id": "nEyBmbpQAVnC"
      }
    },
    {
      "cell_type": "markdown",
      "source": [
        "# PRACTICAL QUESTIONS"
      ],
      "metadata": {
        "id": "ZgxCoKs07o7N"
      }
    },
    {
      "cell_type": "markdown",
      "source": [
        " Write a Python function that takes a list of numbers as input and returns the sum of all even numbers in\n",
        "the list ?"
      ],
      "metadata": {
        "id": "SLsGZHY37tYK"
      }
    },
    {
      "cell_type": "code",
      "source": [
        "def sum_of_even_numbers(numbers):\n",
        "    return sum(x for x in numbers if x % 2 == 0)\n",
        "\n",
        "\n",
        "numbers = [47, 11, 42, 13, 6, 8]\n",
        "result = sum_of_even_numbers(numbers)\n",
        "print(result)"
      ],
      "metadata": {
        "colab": {
          "base_uri": "https://localhost:8080/"
        },
        "id": "ST7UWo078CON",
        "outputId": "a72a329b-db14-4452-d842-ee4d345beda9"
      },
      "execution_count": null,
      "outputs": [
        {
          "output_type": "stream",
          "name": "stdout",
          "text": [
            "56\n"
          ]
        }
      ]
    },
    {
      "cell_type": "markdown",
      "source": [
        " Create a Python function that accepts a string and returns the reverse of that string ?\n",
        "\n",
        "\n"
      ],
      "metadata": {
        "id": "2mPV6FUY8Bny"
      }
    },
    {
      "cell_type": "code",
      "source": [
        "def reverse_string(s):\n",
        "    return s[::-1]\n",
        "\n",
        "input_string = \"hello\"\n",
        "result = reverse_string(input_string)\n",
        "print(result)\n",
        "\n"
      ],
      "metadata": {
        "colab": {
          "base_uri": "https://localhost:8080/"
        },
        "id": "u9-gHoDc8WX5",
        "outputId": "14ad27ee-3796-4fb5-c2e9-3fb83a3b37bd"
      },
      "execution_count": null,
      "outputs": [
        {
          "output_type": "stream",
          "name": "stdout",
          "text": [
            "olleh\n"
          ]
        }
      ]
    },
    {
      "cell_type": "markdown",
      "source": [
        " Implement a Python function that takes a list of integers and returns a new list containing the squares of\n",
        "each number ?"
      ],
      "metadata": {
        "id": "sbDzgRcv8bF4"
      }
    },
    {
      "cell_type": "code",
      "source": [
        "def square_numbers(numbers):\n",
        "    return [x**2 for x in numbers]\n",
        "\n",
        "numbers = [1, 2, 3, 4]\n",
        "result = square_numbers(numbers)\n",
        "print(result)\n"
      ],
      "metadata": {
        "colab": {
          "base_uri": "https://localhost:8080/"
        },
        "id": "_wCxARpA8aCh",
        "outputId": "4d237e6c-d8c2-456f-c931-a2c241de7e70"
      },
      "execution_count": null,
      "outputs": [
        {
          "output_type": "stream",
          "name": "stdout",
          "text": [
            "[1, 4, 9, 16]\n"
          ]
        }
      ]
    },
    {
      "cell_type": "markdown",
      "source": [
        "Write a Python function that checks if a given number is prime or not from 1 to 200 ?"
      ],
      "metadata": {
        "id": "AH04LTll8o8j"
      }
    },
    {
      "cell_type": "code",
      "source": [
        "def is_prime(num):\n",
        "    if num < 2:\n",
        "        return False\n",
        "    for i in range(2, int(num ** 0.5) + 1):\n",
        "        if num % i == 0:\n",
        "            return False\n",
        "    return True\n",
        "\n",
        "primes = [num for num in range(1, 201) if is_prime(num)]\n",
        "print(primes)\n"
      ],
      "metadata": {
        "colab": {
          "base_uri": "https://localhost:8080/"
        },
        "id": "_Lky0CW58nkX",
        "outputId": "e2ae6140-ab5e-4fa5-cd0c-6c3da9fa1836"
      },
      "execution_count": null,
      "outputs": [
        {
          "output_type": "stream",
          "name": "stdout",
          "text": [
            "[2, 3, 5, 7, 11, 13, 17, 19, 23, 29, 31, 37, 41, 43, 47, 53, 59, 61, 67, 71, 73, 79, 83, 89, 97, 101, 103, 107, 109, 113, 127, 131, 137, 139, 149, 151, 157, 163, 167, 173, 179, 181, 191, 193, 197, 199]\n"
          ]
        }
      ]
    },
    {
      "cell_type": "markdown",
      "source": [
        " Create an iterator class in Python that generates the Fibonacci sequence up to a specified number of\n",
        "terms ?"
      ],
      "metadata": {
        "id": "6GxK8QDY81mD"
      }
    },
    {
      "cell_type": "code",
      "source": [
        "class FibonacciIterator:\n",
        "    def __init__(self, terms):\n",
        "        self.terms = terms\n",
        "        self.a, self.b = 0, 1\n",
        "        self.count = 0\n",
        "\n",
        "    def __iter__(self):\n",
        "        return self\n",
        "\n",
        "    def __next__(self):\n",
        "        if self.count < self.terms:\n",
        "            fib_num = self.a\n",
        "            self.a, self.b = self.b, self.a + self.b\n",
        "            self.count += 1\n",
        "            return fib_num\n",
        "        else:\n",
        "            raise StopIteration\n",
        "\n",
        "\n",
        "fib_gen = FibonacciIterator(10)\n",
        "for num in fib_gen:\n",
        "    print(num)\n"
      ],
      "metadata": {
        "colab": {
          "base_uri": "https://localhost:8080/"
        },
        "id": "j9TYYNDY8z5Q",
        "outputId": "c89d4995-7a7a-4809-8aa3-87152407cfc2"
      },
      "execution_count": null,
      "outputs": [
        {
          "output_type": "stream",
          "name": "stdout",
          "text": [
            "0\n",
            "1\n",
            "1\n",
            "2\n",
            "3\n",
            "5\n",
            "8\n",
            "13\n",
            "21\n",
            "34\n"
          ]
        }
      ]
    },
    {
      "cell_type": "markdown",
      "source": [
        " Write a generator function in Python that yields the powers of 2 up to a given exponent ?"
      ],
      "metadata": {
        "id": "kRG1FwWi9B81"
      }
    },
    {
      "cell_type": "code",
      "source": [
        "def powers_of_2(exponent):\n",
        "    for i in range(exponent + 1):\n",
        "        yield 2 ** i\n",
        "\n",
        "\n",
        "for power in powers_of_2(5):\n",
        "    print(power)\n"
      ],
      "metadata": {
        "colab": {
          "base_uri": "https://localhost:8080/"
        },
        "id": "iCLN5nkL8_sA",
        "outputId": "599f341b-63da-4411-be24-c7b5fda1b8ba"
      },
      "execution_count": null,
      "outputs": [
        {
          "output_type": "stream",
          "name": "stdout",
          "text": [
            "1\n",
            "2\n",
            "4\n",
            "8\n",
            "16\n",
            "32\n"
          ]
        }
      ]
    },
    {
      "cell_type": "markdown",
      "source": [
        "Implement a generator function that reads a file line by line and yields each line as a string ?"
      ],
      "metadata": {
        "id": "j9cenfE79Lcq"
      }
    },
    {
      "cell_type": "code",
      "source": [
        "def read_file_line_by_line(filename):\n",
        "    with open(filename, 'r') as file:\n",
        "        for line in file:\n",
        "            yield line.strip()"
      ],
      "metadata": {
        "id": "PQc0XjE09JoU"
      },
      "execution_count": null,
      "outputs": []
    },
    {
      "cell_type": "markdown",
      "source": [
        "Use a lambda function in Python to sort a list of tuples based on the second element of each tuple ?"
      ],
      "metadata": {
        "id": "u1u-XiH29W3C"
      }
    },
    {
      "cell_type": "code",
      "source": [
        "tuples = [(1, 3), (2, 1), (4, 2), (3, 4)]\n",
        "\n",
        "sorted_tuples = sorted(tuples, key=lambda x: x[1])\n",
        "\n",
        "# Output the sorted list\n",
        "print(sorted_tuples)"
      ],
      "metadata": {
        "colab": {
          "base_uri": "https://localhost:8080/"
        },
        "id": "LxLF0TGn9UMK",
        "outputId": "61a72ee9-f934-4bbf-c84b-4697dc85fceb"
      },
      "execution_count": null,
      "outputs": [
        {
          "output_type": "stream",
          "name": "stdout",
          "text": [
            "[(2, 1), (4, 2), (1, 3), (3, 4)]\n"
          ]
        }
      ]
    },
    {
      "cell_type": "markdown",
      "source": [
        "Write a Python program that uses `map()` to convert a list of temperatures from Celsius to Fahrenheit ?"
      ],
      "metadata": {
        "id": "aaxpUmOM9iY2"
      }
    },
    {
      "cell_type": "code",
      "source": [
        "celsius_temperatures = [0, 20, 30, 40, 100]\n",
        "\n",
        "def celsius_to_fahrenheit(celsius):\n",
        "    return (celsius * 9/5) + 32\n",
        "\n",
        "\n",
        "fahrenheit_temperatures = list(map(celsius_to_fahrenheit, celsius_temperatures))\n",
        "\n",
        "# Output the list of temperatures in Fahrenheit\n",
        "print(fahrenheit_temperatures)"
      ],
      "metadata": {
        "colab": {
          "base_uri": "https://localhost:8080/"
        },
        "id": "gHSoZiTv9hHi",
        "outputId": "2cc42b4f-e1df-46ef-ed00-233a13908f22"
      },
      "execution_count": null,
      "outputs": [
        {
          "output_type": "stream",
          "name": "stdout",
          "text": [
            "[32.0, 68.0, 86.0, 104.0, 212.0]\n"
          ]
        }
      ]
    },
    {
      "cell_type": "markdown",
      "source": [
        " Create a Python program that uses `filter()` to remove all the vowels from a given string.\n",
        "\n",
        "\n"
      ],
      "metadata": {
        "id": "df4sBcRe9yeC"
      }
    },
    {
      "cell_type": "code",
      "source": [
        "\n",
        "def remove_vowels(char):\n",
        "    return char.lower() not in 'aeiou'\n",
        "\n",
        "input_string = \"Hello, World!\"\n",
        "\n",
        "filtered_string = ''.join(filter(remove_vowels, input_string))\n",
        "\n",
        "# Output the string without vowels\n",
        "print(filtered_string)\n"
      ],
      "metadata": {
        "colab": {
          "base_uri": "https://localhost:8080/"
        },
        "id": "nGoNOGFy9xdY",
        "outputId": "84cae605-acc0-4156-b5e9-f616932c88de"
      },
      "execution_count": null,
      "outputs": [
        {
          "output_type": "stream",
          "name": "stdout",
          "text": [
            "Hll, Wrld!\n"
          ]
        }
      ]
    },
    {
      "cell_type": "markdown",
      "source": [
        " Imagine an accounting routine used in a book shop. It works on a list with sublists, which look like this:\n",
        "\n",
        "Write a Python program, which returns a list with 2-tuples. Each tuple consists of the order number and the\n",
        "product of the price per item and the quantity. The product should be increased by 10,- € if the value of the\n",
        "order is smaller than 100,00 €.\n",
        "\n",
        "Write a Python program using lambda and map"
      ],
      "metadata": {
        "id": "IrkdWuY6_Ef0"
      }
    },
    {
      "cell_type": "code",
      "source": [
        "\n",
        "orders = [\n",
        "    [34587, \"Learning Python, Mark Lutz\", 4, 40.95],\n",
        "    [98762, \"Programming Python, Mark Lutz\", 5, 56.80],\n",
        "    [77226, \"Head First Python, Paul Barry\", 3, 32.95],\n",
        "    [88112, \"Einführung in Python3, Bernd Klein\", 3, 24.99]\n",
        "]\n",
        "\n",
        "# Function using map and lambda to process the orders\n",
        "result = list(map(\n",
        "    lambda x: (\n",
        "        x[0],\n",
        "        round(x[2] * x[3] + (10 if x[2] * x[3] < 100 else 0), 2)\n",
        "    ),\n",
        "    orders\n",
        "))\n",
        "\n",
        "# Print the result\n",
        "print(result)\n"
      ],
      "metadata": {
        "id": "LG1eO0Zn99uK"
      },
      "execution_count": null,
      "outputs": []
    }
  ]
}